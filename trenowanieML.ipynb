{
 "cells": [
  {
   "cell_type": "markdown",
   "id": "7a96f4da",
   "metadata": {},
   "source": [
    "### 1. Import bibliotek"
   ]
  },
  {
   "cell_type": "code",
   "execution_count": 22,
   "id": "tribal-advertising",
   "metadata": {
    "ExecuteTime": {
     "end_time": "2024-03-31T18:39:54.485468Z",
     "start_time": "2024-03-31T18:39:54.477722Z"
    }
   },
   "outputs": [],
   "source": [
    "import pandas as pd\n",
    "from sklearn.preprocessing import LabelEncoder\n",
    "from sklearn.model_selection import train_test_split\n",
    "from sklearn.ensemble import RandomForestClassifier\n",
    "import pickle"
   ]
  },
  {
   "cell_type": "markdown",
   "id": "2feb2c32",
   "metadata": {},
   "source": [
    "### 2. Przygotowanie modelu"
   ]
  },
  {
   "cell_type": "markdown",
   "id": "3d449777",
   "metadata": {},
   "source": [
    "Wykorzystamy kod z poprzednich zajęć do wytrenowania modelu szacującego zmienną \"survived\""
   ]
  },
  {
   "cell_type": "code",
   "execution_count": 37,
   "id": "forced-reporter",
   "metadata": {
    "ExecuteTime": {
     "end_time": "2024-03-31T19:00:43.136471Z",
     "start_time": "2024-03-31T19:00:43.103864Z"
    }
   },
   "outputs": [
    {
     "name": "stdout",
     "output_type": "stream",
     "text": [
      "Random Forest: 0.9933333333333333\n"
     ]
    }
   ],
   "source": [
    "base_data = pd.read_csv(\"DSP_8.csv\")\n",
    "\n",
    "cols = ['Age', 'Sex', 'ChestPainType', 'RestingBP', 'Cholesterol', 'FastingBS',\n",
    "       'RestingECG', 'MaxHR', 'ExerciseAngina', 'Oldpeak', 'ST_Slope',\n",
    "       'HeartDisease']\n",
    "\n",
    "data = base_data[cols].copy()\n",
    "\n",
    "# drop column fasting blood sugar\n",
    "data = data.drop(columns=['FastingBS'])\n",
    "\n",
    "# drop zero values on certain rows\n",
    "data = data[data.RestingBP != 0]\n",
    "data = data[data.Cholesterol != 0]\n",
    "data = data[data.RestingBP != 0]\n",
    "\n",
    "data.fillna({\"Age\": data[\"Age\"].mean()}, inplace=True)\n",
    "data.fillna({\"RestingBP\": data[\"RestingBP\"].mean()}, inplace=True)\n",
    "\n",
    "\n",
    "data.dropna(subset=['Sex'], inplace=True)\n",
    "data.dropna(subset=['ChestPainType'], inplace=True)\n",
    "data.dropna(subset=['RestingBP'], inplace=True)\n",
    "data.dropna(subset=['RestingECG'], inplace=True)\n",
    "data.dropna(subset=['ExerciseAngina'], inplace=True)\n",
    "data.dropna(subset=['ST_Slope'], inplace=True)\n",
    "\n",
    "\n",
    "encoder = LabelEncoder()\n",
    "data.loc[:,\"Sex\"] = encoder.fit_transform(data.loc[:,\"Sex\"])\n",
    "data.loc[:,\"ChestPainType\"] = encoder.fit_transform(data.loc[:,\"ChestPainType\"])\n",
    "data.loc[:,\"RestingECG\"] = encoder.fit_transform(data.loc[:,\"RestingECG\"])\n",
    "data.loc[:,\"ExerciseAngina\"] = encoder.fit_transform(data.loc[:,\"ExerciseAngina\"])\n",
    "data.loc[:,\"ST_Slope\"] = encoder.fit_transform(data.loc[:,\"ST_Slope\"])\n",
    "\n",
    "y = data.iloc[:,10]\n",
    "x = data.iloc[:,0:10]\n",
    "X_train, X_test, y_train, y_test = train_test_split(x, y, test_size = 0.2, random_state = 0)\n",
    "\n",
    "def model(X_train, y_train):\n",
    "    forest = RandomForestClassifier (n_estimators=20, random_state=0)\n",
    "    forest.fit(X_train,y_train)\n",
    "    print(\"Random Forest: {0}\".format(forest.score(X_train,y_train)))\n",
    "    \n",
    "    return forest\n",
    "\n",
    "forest = model(X_test,y_test)"
   ]
  },
  {
   "cell_type": "code",
   "execution_count": null,
   "id": "d5b1af80",
   "metadata": {},
   "outputs": [],
   "source": [
    "my_data =[\n",
    "            [\n",
    "             1,  #\"Pclass\"\n",
    "             1,  #\"Sex\", Sex 0 = Female, 1 = Male\n",
    "             50,  #\"Age\", Age\n",
    "             0,  #\"SibSp\"\n",
    "             0,  #\"Parch\"\n",
    "             0,  #\"Fare\", \n",
    "             2,  #\"Embarked\"\n",
    "    ]\n",
    "]\n",
    "\n",
    "print(forest.predict(my_data))\n",
    "\n",
    "my_data =[\n",
    "            [\n",
    "             1,  #\"Pclass\"\n",
    "             0,  #\"Sex\", Sex 0 = Female, 1 = Male\n",
    "             20,  #\"Age\", Age\n",
    "             1,  #\"SibSp\"\n",
    "             0,  #\"Parch\"\n",
    "             0,  #\"Fare\", \n",
    "             2,  #\"Embarked\"\n",
    "    ]\n",
    "]\n",
    "\n",
    "print(forest.predict(my_data))"
   ]
  },
  {
   "cell_type": "markdown",
   "id": "53d1e31a",
   "metadata": {},
   "source": [
    "Teraz jesteśmy gotowi do wyeksportowania naszego modelu do .pkl"
   ]
  },
  {
   "cell_type": "code",
   "execution_count": 30,
   "id": "8f6efed7",
   "metadata": {
    "ExecuteTime": {
     "end_time": "2024-03-31T18:50:09.035927Z",
     "start_time": "2024-03-31T18:50:09.031411Z"
    }
   },
   "outputs": [],
   "source": [
    "filename = \"model.sv\"\n",
    "pickle.dump(forest, open(filename,'wb'))"
   ]
  },
  {
   "cell_type": "markdown",
   "id": "9047beea",
   "metadata": {},
   "source": [
    "Dalszą część pracy wykonujemy już poza Jupyter Notebook. Przenosimy się do pliku app.py."
   ]
  }
 ],
 "metadata": {
  "kernelspec": {
   "display_name": "Python 3 (ipykernel)",
   "language": "python",
   "name": "python3"
  },
  "language_info": {
   "codemirror_mode": {
    "name": "ipython",
    "version": 3
   },
   "file_extension": ".py",
   "mimetype": "text/x-python",
   "name": "python",
   "nbconvert_exporter": "python",
   "pygments_lexer": "ipython3",
   "version": "3.8.12"
  }
 },
 "nbformat": 4,
 "nbformat_minor": 5
}
